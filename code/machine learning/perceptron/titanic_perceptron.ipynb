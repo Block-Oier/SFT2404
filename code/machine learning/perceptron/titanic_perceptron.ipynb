{
 "cells": [
  {
   "cell_type": "code",
   "execution_count": null,
   "id": "bdf47b2a-8b6f-459d-9791-9156ff9df7ec",
   "metadata": {},
   "outputs": [],
   "source": [
    "'''\n",
    "Uploader: 聂延丰\n",
    "Dataset used: Titanic Dataset\n",
    "Package used: kagglehub, pandas, numpy, sklearn.model_selection, matplotlib.pyplot\n",
    "Running Environment \n",
    "'''"
   ]
  },
  {
   "cell_type": "code",
   "execution_count": 2,
   "id": "126953e8-5791-4285-bfa4-0cde41ee530b",
   "metadata": {},
   "outputs": [
    {
     "name": "stdout",
     "output_type": "stream",
     "text": [
      "Path to dataset files: C:\\Users\\聂延丰\\.cache\\kagglehub\\datasets\\brendan45774\\test-file\\versions\\6\n"
     ]
    }
   ],
   "source": [
    "import kagglehub\n",
    "\n",
    "path = kagglehub.dataset_download(\"brendan45774/test-file\")\n",
    "\n",
    "print(\"Path to dataset files:\", path)"
   ]
  },
  {
   "cell_type": "code",
   "execution_count": 1,
   "id": "00626869-cd42-48b3-823a-993a878d9adf",
   "metadata": {},
   "outputs": [
    {
     "data": {
      "text/html": [
       "<div>\n",
       "<style scoped>\n",
       "    .dataframe tbody tr th:only-of-type {\n",
       "        vertical-align: middle;\n",
       "    }\n",
       "\n",
       "    .dataframe tbody tr th {\n",
       "        vertical-align: top;\n",
       "    }\n",
       "\n",
       "    .dataframe thead th {\n",
       "        text-align: right;\n",
       "    }\n",
       "</style>\n",
       "<table border=\"1\" class=\"dataframe\">\n",
       "  <thead>\n",
       "    <tr style=\"text-align: right;\">\n",
       "      <th></th>\n",
       "      <th>PassengerId</th>\n",
       "      <th>Survived</th>\n",
       "      <th>Pclass</th>\n",
       "      <th>Age</th>\n",
       "      <th>SibSp</th>\n",
       "      <th>Parch</th>\n",
       "      <th>Fare</th>\n",
       "    </tr>\n",
       "  </thead>\n",
       "  <tbody>\n",
       "    <tr>\n",
       "      <th>count</th>\n",
       "      <td>418.000000</td>\n",
       "      <td>418.000000</td>\n",
       "      <td>418.000000</td>\n",
       "      <td>332.000000</td>\n",
       "      <td>418.000000</td>\n",
       "      <td>418.000000</td>\n",
       "      <td>417.000000</td>\n",
       "    </tr>\n",
       "    <tr>\n",
       "      <th>mean</th>\n",
       "      <td>1100.500000</td>\n",
       "      <td>0.363636</td>\n",
       "      <td>2.265550</td>\n",
       "      <td>30.272590</td>\n",
       "      <td>0.447368</td>\n",
       "      <td>0.392344</td>\n",
       "      <td>35.627188</td>\n",
       "    </tr>\n",
       "    <tr>\n",
       "      <th>std</th>\n",
       "      <td>120.810458</td>\n",
       "      <td>0.481622</td>\n",
       "      <td>0.841838</td>\n",
       "      <td>14.181209</td>\n",
       "      <td>0.896760</td>\n",
       "      <td>0.981429</td>\n",
       "      <td>55.907576</td>\n",
       "    </tr>\n",
       "    <tr>\n",
       "      <th>min</th>\n",
       "      <td>892.000000</td>\n",
       "      <td>0.000000</td>\n",
       "      <td>1.000000</td>\n",
       "      <td>0.170000</td>\n",
       "      <td>0.000000</td>\n",
       "      <td>0.000000</td>\n",
       "      <td>0.000000</td>\n",
       "    </tr>\n",
       "    <tr>\n",
       "      <th>25%</th>\n",
       "      <td>996.250000</td>\n",
       "      <td>0.000000</td>\n",
       "      <td>1.000000</td>\n",
       "      <td>21.000000</td>\n",
       "      <td>0.000000</td>\n",
       "      <td>0.000000</td>\n",
       "      <td>7.895800</td>\n",
       "    </tr>\n",
       "    <tr>\n",
       "      <th>50%</th>\n",
       "      <td>1100.500000</td>\n",
       "      <td>0.000000</td>\n",
       "      <td>3.000000</td>\n",
       "      <td>27.000000</td>\n",
       "      <td>0.000000</td>\n",
       "      <td>0.000000</td>\n",
       "      <td>14.454200</td>\n",
       "    </tr>\n",
       "    <tr>\n",
       "      <th>75%</th>\n",
       "      <td>1204.750000</td>\n",
       "      <td>1.000000</td>\n",
       "      <td>3.000000</td>\n",
       "      <td>39.000000</td>\n",
       "      <td>1.000000</td>\n",
       "      <td>0.000000</td>\n",
       "      <td>31.500000</td>\n",
       "    </tr>\n",
       "    <tr>\n",
       "      <th>max</th>\n",
       "      <td>1309.000000</td>\n",
       "      <td>1.000000</td>\n",
       "      <td>3.000000</td>\n",
       "      <td>76.000000</td>\n",
       "      <td>8.000000</td>\n",
       "      <td>9.000000</td>\n",
       "      <td>512.329200</td>\n",
       "    </tr>\n",
       "  </tbody>\n",
       "</table>\n",
       "</div>"
      ],
      "text/plain": [
       "       PassengerId    Survived      Pclass         Age       SibSp  \\\n",
       "count   418.000000  418.000000  418.000000  332.000000  418.000000   \n",
       "mean   1100.500000    0.363636    2.265550   30.272590    0.447368   \n",
       "std     120.810458    0.481622    0.841838   14.181209    0.896760   \n",
       "min     892.000000    0.000000    1.000000    0.170000    0.000000   \n",
       "25%     996.250000    0.000000    1.000000   21.000000    0.000000   \n",
       "50%    1100.500000    0.000000    3.000000   27.000000    0.000000   \n",
       "75%    1204.750000    1.000000    3.000000   39.000000    1.000000   \n",
       "max    1309.000000    1.000000    3.000000   76.000000    8.000000   \n",
       "\n",
       "            Parch        Fare  \n",
       "count  418.000000  417.000000  \n",
       "mean     0.392344   35.627188  \n",
       "std      0.981429   55.907576  \n",
       "min      0.000000    0.000000  \n",
       "25%      0.000000    7.895800  \n",
       "50%      0.000000   14.454200  \n",
       "75%      0.000000   31.500000  \n",
       "max      9.000000  512.329200  "
      ]
     },
     "execution_count": 1,
     "metadata": {},
     "output_type": "execute_result"
    }
   ],
   "source": [
    "import pandas as pd\n",
    "titanic_dataset = pd.read_csv(\"./titanic/tested.csv\")\n",
    "\n",
    "titanic_dataset.describe()"
   ]
  },
  {
   "cell_type": "code",
   "execution_count": 2,
   "id": "0279fa89-8aba-4df6-a850-58a8561e38d8",
   "metadata": {},
   "outputs": [],
   "source": [
    "titanic = titanic_dataset"
   ]
  },
  {
   "cell_type": "code",
   "execution_count": 3,
   "id": "fd2078be-bb08-4f34-bac3-7249cfb0c970",
   "metadata": {},
   "outputs": [],
   "source": [
    "import numpy as np\n",
    "def fill_dataset(titanic):\n",
    "    titanic['Age'] = titanic['Age'].fillna(titanic['Age'].mean())\n",
    "    titanic['Cabin'] = titanic['Cabin'].fillna('Missing')\n",
    "    titanic['Embarked'] = titanic['Embarked'].fillna(titanic['Embarked'].mode()[0])\n",
    "    titanic['Fare'] = titanic['Fare'].fillna(titanic['Fare'].mode()[0])\n",
    "    return titanic"
   ]
  },
  {
   "cell_type": "code",
   "execution_count": 4,
   "id": "34a5dc75-0bab-4ed5-84cc-f483b0fc9f3a",
   "metadata": {},
   "outputs": [
    {
     "data": {
      "text/plain": [
       "418"
      ]
     },
     "execution_count": 4,
     "metadata": {},
     "output_type": "execute_result"
    }
   ],
   "source": [
    "titanic = fill_dataset(titanic)\n",
    "len(titanic)"
   ]
  },
  {
   "cell_type": "code",
   "execution_count": 5,
   "id": "31be9b57-e6d3-4256-b1cc-3b323704da11",
   "metadata": {},
   "outputs": [],
   "source": [
    "def normalize(x_train):\n",
    "    Embarked = pd.get_dummies(x_train['Embarked'], prefix='Embarked')\n",
    "    x_train = pd.concat([x_train, Embarked], axis=1)\n",
    "    x_train.drop(columns='Embarked', inplace=True)\n",
    "    \n",
    "    x_train['Age'] = (x_train['Age'] - x_train['Age'].min()) / (x_train['Age'].max() - x_train['Age'].min())\n",
    "    x_train['Fare'] = (x_train['Fare'] - x_train['Fare'].min()) / (x_train['Fare'].max() - x_train['Fare'].min())\n",
    "    gender_class = {\"female\": 0, \"male\": 1}\n",
    "    x_train['Sex'] = x_train['Sex'].map(gender_class)\n",
    "    return x_train"
   ]
  },
  {
   "cell_type": "code",
   "execution_count": 6,
   "id": "99beb1f2-af08-4d48-b10f-de3eae069e2c",
   "metadata": {},
   "outputs": [],
   "source": [
    "id_train = titanic.loc[:, 'PassengerId']\n",
    "x_train = titanic.drop(columns=['PassengerId', 'Survived', 'Name', 'Ticket', 'Cabin'])\n",
    "y_train = titanic.drop(columns=['PassengerId', 'Pclass', 'Name', 'Sex', 'Age', 'SibSp', 'Parch', 'Ticket', 'Fare', 'Cabin', 'Embarked'])\n",
    "\n",
    "for i in range(y_train.size):\n",
    "    if y_train['Survived'][i] == 0:\n",
    "        y_train.loc[i, 'Survived'] = -1"
   ]
  },
  {
   "cell_type": "code",
   "execution_count": 7,
   "id": "03c82d13-e85e-487f-8c9a-2711ccf4747c",
   "metadata": {},
   "outputs": [],
   "source": [
    "x_train = normalize(x_train)"
   ]
  },
  {
   "cell_type": "code",
   "execution_count": 42,
   "id": "292f2ee1-69d8-42c6-ab02-7153a50b8e89",
   "metadata": {},
   "outputs": [],
   "source": [
    "# From here start to train\n",
    "from sklearn.model_selection import train_test_split\n",
    "X_train, X_test, Y_train, Y_test = train_test_split(x_train, y_train, test_size=0.1)"
   ]
  },
  {
   "cell_type": "code",
   "execution_count": 43,
   "id": "6b10e1e3-d5c0-47de-a5c9-159f4e42b057",
   "metadata": {},
   "outputs": [
    {
     "data": {
      "text/plain": [
       "(array([[9.4796677 ],\n",
       "        [0.27189034],\n",
       "        [0.36349233],\n",
       "        [0.47665532],\n",
       "        [3.99734927],\n",
       "        [7.98227743],\n",
       "        [7.57165865],\n",
       "        [5.25999244],\n",
       "        [8.55454494]]),\n",
       " array([2.26194918]))"
      ]
     },
     "execution_count": 43,
     "metadata": {},
     "output_type": "execute_result"
    }
   ],
   "source": [
    "Weight = np.random.rand(9, 1) * 10\n",
    "Bias = np.random.rand(1) * 10\n",
    "Weight, Bias"
   ]
  },
  {
   "cell_type": "code",
   "execution_count": 44,
   "id": "0eb463d9-b37b-4ac4-9825-d7b00fc74c6b",
   "metadata": {},
   "outputs": [],
   "source": [
    "column_test = []\n",
    "for i in range(418):\n",
    "    flag = 1\n",
    "    for key, value in X_test.items():\n",
    "        if value.get(i) != None:\n",
    "            flag = 0\n",
    "    if flag == 0:\n",
    "        column_test.append(i)"
   ]
  },
  {
   "cell_type": "code",
   "execution_count": 45,
   "id": "74c284bb-7cae-41c6-b804-18707d662722",
   "metadata": {},
   "outputs": [
    {
     "data": {
      "text/plain": [
       "0.2619047619047619"
      ]
     },
     "execution_count": 45,
     "metadata": {},
     "output_type": "execute_result"
    }
   ],
   "source": [
    "compute_acc(X_test, Y_test, Weight, Bias, len(X_test))"
   ]
  },
  {
   "cell_type": "code",
   "execution_count": 46,
   "id": "e5ece3df-17e2-4d6f-929f-1bedbef0528b",
   "metadata": {},
   "outputs": [],
   "source": [
    "def train(x_train, y_train, x_test, y_test, train_num, input_num, test_num, learning_rate=0.9):\n",
    "    global Weight, Bias\n",
    "    accs = []\n",
    "\n",
    "    column = []\n",
    "    for i in range(418):\n",
    "        flag = 1\n",
    "        for key, value in X_train.items():\n",
    "            if value.get(i) != None:\n",
    "                flag = 0\n",
    "        if flag == 0:\n",
    "            column.append(i)\n",
    "    \n",
    "    for rounds in range(train_num):\n",
    "        for i in range(len(column)):\n",
    "            sum = 0\n",
    "            x = []\n",
    "            for key, value in x_train.items():\n",
    "                x.append(value[column[i]])\n",
    "            # print(x)\n",
    "            for j in range(Weight.size):\n",
    "                sum = sum + Weight[j] * x[j]\n",
    "            pred = np.sign((sum + Bias))\n",
    "            if pred * y_train['Survived'][column[i]] <= 0.0:\n",
    "                for j in range(Weight.size):\n",
    "                    Weight[j] = Weight[j] + learning_rate * x[j] * y_train['Survived'][column[i]]\n",
    "                Bias = Bias + learning_rate * y_train['Survived'][column[i]]\n",
    "        acc = compute_acc(x_test, y_test, Weight, Bias, test_num)\n",
    "        accs.append(acc)\n",
    "    return accs"
   ]
  },
  {
   "cell_type": "code",
   "execution_count": 47,
   "id": "52ddc781-a3ef-499f-ab74-106edd88f847",
   "metadata": {},
   "outputs": [],
   "source": [
    "def compute_acc(x_test, y_test, weight, bias, test_num):\n",
    "    pred = []\n",
    "    for i in range(len(column_test)):\n",
    "        sum = 0\n",
    "        x = []\n",
    "        for key, value in x_test.items():\n",
    "            x.append(value[column_test[i]])\n",
    "        for j in range(weight.size):\n",
    "            sum += weight[j] * x[j]\n",
    "        pred.append(np.sign(sum + Bias))\n",
    "    cnt = 0\n",
    "    for i in range(len(pred)):\n",
    "        if pred[i] * y_test['Survived'][column_test[i]] > 0:\n",
    "            cnt += 1\n",
    "    return (cnt + 0.0) / test_num"
   ]
  },
  {
   "cell_type": "code",
   "execution_count": 48,
   "id": "cfeaf4ed-f3f4-47b0-8760-1e253492423e",
   "metadata": {},
   "outputs": [],
   "source": [
    "accs = train(X_train, Y_train, X_test, Y_test, 100, len(X_train), len(X_test), learning_rate=0.01)\n"
   ]
  },
  {
   "cell_type": "code",
   "execution_count": 49,
   "id": "c7f0ee61-a6fb-4990-8408-2a57bf10fabc",
   "metadata": {},
   "outputs": [
    {
     "data": {
      "text/plain": [
       "(array([[-0.5703323 ],\n",
       "        [-5.17810966],\n",
       "        [-1.72590854],\n",
       "        [-0.18334468],\n",
       "        [ 0.07734927],\n",
       "        [ 7.43404822],\n",
       "        [ 5.75165865],\n",
       "        [ 5.15999244],\n",
       "        [ 5.67454494]]),\n",
       " array([-2.53805082]),\n",
       " 0.9761904761904762)"
      ]
     },
     "execution_count": 49,
     "metadata": {},
     "output_type": "execute_result"
    }
   ],
   "source": [
    "Weight, Bias, accs[len(accs) - 1]"
   ]
  },
  {
   "cell_type": "code",
   "execution_count": 50,
   "id": "4b2d7230-c5ed-4960-b809-1562d4795054",
   "metadata": {},
   "outputs": [
    {
     "data": {
      "image/png": "[encoded data removed]",
      "text/plain": [
       "<Figure size 640x480 with 1 Axes>"
      ]
     },
     "metadata": {},
     "output_type": "display_data"
    }
   ],
   "source": [
    "import matplotlib.pyplot as plt\n",
    "plt.xlabel(\"it_n\")\n",
    "plt.ylabel(\"acc\")\n",
    "plt.scatter(range(len(accs)), accs, marker='.')\n",
    "plt.show()"
   ]
  },
  {
   "cell_type": "code",
   "execution_count": null,
   "id": "0e222772-893e-4e7e-b867-71a71e29eac2",
   "metadata": {},
   "outputs": [],
   "source": []
  }
 ],
 "metadata": {
  "kernelspec": {
   "display_name": "Python 3 (ipykernel)",
   "language": "python",
   "name": "python3"
  },
  "language_info": {
   "codemirror_mode": {
    "name": "ipython",
    "version": 3
   },
   "file_extension": ".py",
   "mimetype": "text/x-python",
   "name": "python",
   "nbconvert_exporter": "python",
   "pygments_lexer": "ipython3",
   "version": "3.12.7"
  }
 },
 "nbformat": 4,
 "nbformat_minor": 5
}
